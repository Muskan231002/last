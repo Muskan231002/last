{
  "nbformat": 4,
  "nbformat_minor": 0,
  "metadata": {
    "colab": {
      "provenance": []
    },
    "kernelspec": {
      "name": "python3",
      "display_name": "Python 3"
    },
    "language_info": {
      "name": "python"
    }
  },
  "cells": [
    {
      "cell_type": "code",
      "execution_count": 1,
      "metadata": {
        "colab": {
          "base_uri": "https://localhost:8080/"
        },
        "id": "3vg9RN89PPJl",
        "outputId": "9c5e2031-6ef5-45cf-9365-28c513a0d252"
      },
      "outputs": [
        {
          "output_type": "stream",
          "name": "stdout",
          "text": [
            "x1\tx2\tOutput\n",
            "--------------------\n",
            "0\t0\t0\n",
            "0\t1\t0\n",
            "1\t0\t1\n",
            "1\t1\t0\n"
          ]
        }
      ],
      "source": [
        "import numpy as np\n",
        "\n",
        "def mp_neuron(inputs, weights, threshold):\n",
        "    weighted_sum = np.dot(inputs, weights)\n",
        "    output = 1 if weighted_sum >= threshold else 0\n",
        "    return output\n",
        "\n",
        "def and_not(x1, x2):\n",
        "    weights = [1, -1]  # Weights for AND NOT\n",
        "    threshold = 1\n",
        "    inputs = np.array([x1, x2])\n",
        "    output = mp_neuron(inputs, weights, threshold)\n",
        "    return output\n",
        "\n",
        "# Print the truth table\n",
        "print(\"x1\\tx2\\tOutput\")\n",
        "print(\"-\" * 20)\n",
        "for x1 in [0, 1]:\n",
        "    for x2 in [0, 1]:\n",
        "        output = and_not(x1, x2)\n",
        "        print(f\"{x1}\\t{x2}\\t{output}\")"
      ]
    },
    {
      "cell_type": "code",
      "source": [],
      "metadata": {
        "id": "8czjUQoVQMGg"
      },
      "execution_count": null,
      "outputs": []
    }
  ]
}