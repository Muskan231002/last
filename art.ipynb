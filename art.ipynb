{
  "nbformat": 4,
  "nbformat_minor": 0,
  "metadata": {
    "colab": {
      "provenance": []
    },
    "kernelspec": {
      "name": "python3",
      "display_name": "Python 3"
    },
    "language_info": {
      "name": "python"
    }
  },
  "cells": [
    {
      "cell_type": "code",
      "source": [
        "import numpy as np\n",
        "\n",
        "class ART:\n",
        "    def __init__(self, input_size, vigilance):\n",
        "        self.input_size = input_size\n",
        "        self.vigilance = vigilance\n",
        "        self.W = np.zeros((1, input_size))  # Weights matrix\n",
        "        self.n = 0  # Number of clusters\n",
        "\n",
        "    def compute_similarity(self, X):\n",
        "        return np.sum(np.minimum(X, self.W)) / np.sum(X)\n",
        "\n",
        "    def update_weights(self, X):\n",
        "        self.W += (X - self.W) / self.n  # Update weights with the input\n",
        "\n",
        "    def add_cluster(self, X):\n",
        "        self.W = np.vstack((self.W, X))\n",
        "        self.n += 1\n",
        "\n",
        "    def fit(self, X):\n",
        "        for i, x in enumerate(X):\n",
        "            matched = False\n",
        "            for j in range(self.n):\n",
        "                similarity = self.compute_similarity(x)\n",
        "                if similarity >= self.vigilance:\n",
        "                    self.update_weights(x)\n",
        "                    matched = True\n",
        "                    break\n",
        "            if not matched:\n",
        "                self.add_cluster(x)\n",
        "                print(f\"New cluster created for sample {i+1}\")\n",
        "\n",
        "    def predict(self, X):\n",
        "        labels = []\n",
        "        for x in X:\n",
        "            matched = False\n",
        "            for j in range(self.n):\n",
        "                similarity = self.compute_similarity(x)\n",
        "                if similarity >= self.vigilance:\n",
        "                    labels.append(j)\n",
        "                    matched = True\n",
        "                    break\n",
        "            if not matched:\n",
        "                labels.append(-1)  # Unknown cluster\n",
        "        return labels\n",
        " # Example data\n",
        "X = np.array([[1, 1, 0, 0],\n",
        "              [0, 0, 1, 1],\n",
        "              [1, 0, 1, 0],\n",
        "              [0, 1, 0, 1]])\n",
        "\n",
        "# Create and fit ART network\n",
        "art = ART(input_size=X.shape[1], vigilance=0.5)\n",
        "art.fit(X)\n",
        "\n",
        "# Test the ART network\n",
        "test_data = np.array([[1, 1, 0, 0],\n",
        "                      [1, 0, 1, 0],\n",
        "                      [0, 0, 1, 1]])\n",
        "\n",
        "predicted_labels = art.predict(test_data)\n",
        "print(\"Predicted Labels:\", predicted_labels)"
      ],
      "metadata": {
        "colab": {
          "base_uri": "https://localhost:8080/"
        },
        "id": "mPTq_PEQT6am",
        "outputId": "4047e1e1-8d23-4bdd-e81c-403ff7af6c96"
      },
      "execution_count": 7,
      "outputs": [
        {
          "output_type": "stream",
          "name": "stdout",
          "text": [
            "New cluster created for sample 1\n",
            "New cluster created for sample 2\n",
            "Predicted Labels: [0, 0, 0]\n"
          ]
        }
      ]
    },
    {
      "cell_type": "code",
      "source": [],
      "metadata": {
        "id": "p_AD36L3UUwV"
      },
      "execution_count": null,
      "outputs": []
    }
  ]
}