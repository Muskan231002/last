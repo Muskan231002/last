{
  "nbformat": 4,
  "nbformat_minor": 0,
  "metadata": {
    "colab": {
      "provenance": []
    },
    "kernelspec": {
      "name": "python3",
      "display_name": "Python 3"
    },
    "language_info": {
      "name": "python"
    }
  },
  "cells": [
    {
      "cell_type": "code",
      "execution_count": 1,
      "metadata": {
        "colab": {
          "base_uri": "https://localhost:8080/"
        },
        "id": "DmBr7dTOQzu0",
        "outputId": "6d047d94-76b6-44a2-8387-9a52f5b8e2d9"
      },
      "outputs": [
        {
          "output_type": "stream",
          "name": "stdout",
          "text": [
            "Number: 1, Prediction: Odd\n",
            "Number: 2, Prediction: Even\n",
            "Number: 3, Prediction: Odd\n",
            "Number: 4, Prediction: Even\n",
            "Number: 5, Prediction: Odd\n",
            "Number: 6, Prediction: Even\n",
            "Number: 7, Prediction: Odd\n",
            "Number: 8, Prediction: Even\n",
            "Number: 9, Prediction: Odd\n",
            "Number: 0, Prediction: Even\n"
          ]
        }
      ],
      "source": [
        "import numpy as np\n",
        "\n",
        "class Perceptron:\n",
        "    def __init__(self, input_size):\n",
        "        self.weights = np.zeros(input_size + 1)  # Additional weight for bias\n",
        "        self.learning_rate = 0.1\n",
        "\n",
        "    def activate(self, inputs):\n",
        "        # Activation function (Step function)\n",
        "        return 1 if np.dot(inputs, self.weights[1:]) + self.weights[0] >= 0 else 0\n",
        "\n",
        "    def train(self, training_inputs, labels, epochs):\n",
        "        for _ in range(epochs):\n",
        "            for inputs, label in zip(training_inputs, labels):\n",
        "                prediction = self.activate(inputs)\n",
        "                self.weights[1:] += self.learning_rate * (label - prediction) * inputs\n",
        "                self.weights[0] += self.learning_rate * (label - prediction)\n",
        "\n",
        "def preprocess_input(num):\n",
        "    # Convert ASCII representation of digits to binary\n",
        "    return [int(bit) for bit in format(num, '08b')]  # 8-bit binary representation\n",
        "\n",
        "def is_even(num):\n",
        "    return num % 2 == 0\n",
        "\n",
        "def is_odd(num):\n",
        "    return not is_even(num)\n",
        "\n",
        "# Training data\n",
        "training_data = []\n",
        "labels = []\n",
        "\n",
        "for i in range(48, 58):  # ASCII values for digits 0 to 9\n",
        "    binary_representation = preprocess_input(i)\n",
        "    training_data.append(binary_representation)\n",
        "    labels.append(1 if is_even(i) else 0)  # Label 1 for even, 0 for odd\n",
        "\n",
        "# Create and train the perceptron\n",
        "perceptron = Perceptron(input_size=8)  # 8 bits for ASCII representation\n",
        "perceptron.train(np.array(training_data), np.array(labels), epochs=100)\n",
        "\n",
        "# Test the perceptron\n",
        "test_numbers = [49, 50, 51, 52, 53, 54, 55, 56, 57, 48]  # ASCII values for digits 1 to 9 and 0\n",
        "for num in test_numbers:\n",
        "    input_data = preprocess_input(num)\n",
        "    prediction = perceptron.activate(input_data)\n",
        "    print(f\"Number: {chr(num)}, Prediction: {'Even' if prediction == 1 else 'Odd'}\")"
      ]
    },
    {
      "cell_type": "code",
      "source": [],
      "metadata": {
        "id": "mrRLsf-yQ0-b"
      },
      "execution_count": null,
      "outputs": []
    }
  ]
}