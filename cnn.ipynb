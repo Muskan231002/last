{
  "nbformat": 4,
  "nbformat_minor": 0,
  "metadata": {
    "colab": {
      "provenance": []
    },
    "kernelspec": {
      "name": "python3",
      "display_name": "Python 3"
    },
    "language_info": {
      "name": "python"
    }
  },
  "cells": [
    {
      "cell_type": "code",
      "execution_count": 1,
      "metadata": {
        "colab": {
          "base_uri": "https://localhost:8080/"
        },
        "id": "Fdnlb1GRXEzs",
        "outputId": "dcc9fc99-6fe6-4dae-aadd-85dc47893164"
      },
      "outputs": [
        {
          "output_type": "stream",
          "name": "stdout",
          "text": [
            "Epoch 1/5\n",
            "15/15 [==============================] - 2s 7ms/step - loss: 0.5184 - accuracy: 0.7912\n",
            "Epoch 2/5\n",
            "15/15 [==============================] - 0s 4ms/step - loss: 0.4694 - accuracy: 0.8264\n",
            "Epoch 3/5\n",
            "15/15 [==============================] - 0s 6ms/step - loss: 0.4290 - accuracy: 0.8440\n",
            "Epoch 4/5\n",
            "15/15 [==============================] - 0s 5ms/step - loss: 0.3957 - accuracy: 0.8813\n",
            "Epoch 5/5\n",
            "15/15 [==============================] - 0s 3ms/step - loss: 0.3681 - accuracy: 0.8945\n",
            "4/4 [==============================] - 1s 18ms/step - loss: 0.3337 - accuracy: 0.8772\n",
            "Accuracy: 0.8771929740905762\n"
          ]
        }
      ],
      "source": [
        "import tensorflow as tf\n",
        "\n",
        "from sklearn.model_selection import train_test_split\n",
        "\n",
        "from sklearn.preprocessing import StandardScaler\n",
        "\n",
        "from sklearn.datasets import load_breast_cancer\n",
        "\n",
        "\n",
        "# Load the breast cancer dataset\n",
        "\n",
        "data = load_breast_cancer()\n",
        "\n",
        "X_train, X_test, y_train, y_test = train_test_split(data.data, data.target, test_size=0.2, random_state=42)\n",
        "\n",
        "\n",
        "# Scale the input features\n",
        "\n",
        "scaler = StandardScaler()\n",
        "\n",
        "X_train = scaler.fit_transform(X_train)\n",
        "\n",
        "X_test = scaler.transform(X_test)\n",
        "\n",
        "# Build the model\n",
        "\n",
        "model = tf.keras.models.Sequential([\n",
        "\n",
        "    tf.keras.layers.Dense(1, activation='sigmoid', input_shape=(X_train.shape[1],))\n",
        "\n",
        "])\n",
        "\n",
        "# Compile the model\n",
        "\n",
        "model.compile(optimizer='adam', loss='binary_crossentropy', metrics=['accuracy'])\n",
        "\n",
        "# Train the model\n",
        "\n",
        "model.fit(X_train, y_train, epochs=5)\n",
        "\n",
        "# Evaluate the model\n",
        "\n",
        "test_loss, test_accuracy = model.evaluate(X_test, y_test)\n",
        "\n",
        "print(\"Accuracy:\", test_accuracy)"
      ]
    },
    {
      "cell_type": "code",
      "source": [],
      "metadata": {
        "id": "k8BvImOQXF7N"
      },
      "execution_count": null,
      "outputs": []
    }
  ]
}