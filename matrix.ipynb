{
  "nbformat": 4,
  "nbformat_minor": 0,
  "metadata": {
    "colab": {
      "provenance": []
    },
    "kernelspec": {
      "name": "python3",
      "display_name": "Python 3"
    },
    "language_info": {
      "name": "python"
    }
  },
  "cells": [
    {
      "cell_type": "code",
      "execution_count": 2,
      "metadata": {
        "colab": {
          "base_uri": "https://localhost:8080/"
        },
        "id": "441QniNySyDp",
        "outputId": "4fc1ea74-a602-4473-8999-c5e41493587b"
      },
      "outputs": [
        {
          "output_type": "stream",
          "name": "stdout",
          "text": [
            "Predicted Number: 8\n"
          ]
        },
        {
          "output_type": "stream",
          "name": "stderr",
          "text": [
            "/usr/local/lib/python3.10/dist-packages/sklearn/neural_network/_multilayer_perceptron.py:686: ConvergenceWarning: Stochastic Optimizer: Maximum iterations (1000) reached and the optimization hasn't converged yet.\n",
            "  warnings.warn(\n"
          ]
        }
      ],
      "source": [
        "import numpy as np\n",
        "from sklearn.neural_network import MLPClassifier\n",
        "\n",
        "# Define training data\n",
        "X_train = np.array([\n",
        "    [1, 1, 1, 1, 1,   # Digit 0\n",
        "     1, 0, 0, 0, 1,\n",
        "     1, 0, 0, 0, 1],\n",
        "\n",
        "    [0, 0, 1, 0, 0,   # Digit 1\n",
        "     0, 0, 1, 0, 0,\n",
        "     0, 0, 1, 0, 0],\n",
        "\n",
        "    [1, 1, 1, 0, 0,   # Digit 2\n",
        "     1, 1, 1, 1, 1,\n",
        "     1, 0, 0, 0, 0],\n",
        "\n",
        "    [1, 1, 1, 0, 0,   # Digit 3\n",
        "     1, 1, 1, 0, 0,\n",
        "     1, 1, 1, 0, 0],\n",
        "\n",
        "    [1, 0, 1, 0, 1,   # Digit 4\n",
        "     1, 0, 1, 0, 1,\n",
        "     1, 1, 1, 1, 1],\n",
        "\n",
        "    [1, 1, 1, 0, 0,   # Digit 5\n",
        "     1, 0, 0, 0, 0,\n",
        "     1, 1, 1, 0, 0],\n",
        "\n",
        "    [1, 1, 1, 0, 0,   # Digit 6\n",
        "     1, 0, 0, 0, 0,\n",
        "     1, 1, 1, 1, 1],\n",
        "\n",
        "    [1, 1, 1, 0, 0,   # Digit 7\n",
        "     0, 0, 1, 0, 0,\n",
        "     0, 0, 1, 0, 0],\n",
        "\n",
        "    [1, 1, 1, 1, 1,   # Digit 8\n",
        "     1, 1, 1, 1, 1,\n",
        "     1, 1, 1, 1, 1],\n",
        "\n",
        "    [1, 1, 1, 0, 0,   # Digit 9\n",
        "     1, 1, 1, 0, 0,\n",
        "     1, 1, 1, 0, 0]\n",
        "])\n",
        "# Define labels\n",
        "y_train = np.array([0, 1, 2, 3, 4, 5, 6, 7, 8, 9])\n",
        "\n",
        "# Create and train the neural network\n",
        "clf = MLPClassifier(hidden_layer_sizes=(15,), activation='relu', max_iter=1000)\n",
        "clf.fit(X_train, y_train)\n",
        "\n",
        "# Test the trained model\n",
        "def recognize_number(input_data):\n",
        "    predicted_digit = clf.predict([input_data])\n",
        "    return predicted_digit[0]\n",
        "\n",
        "# Example test data\n",
        "test_data = [\n",
        "    [1, 1, 1, 1, 1,   # Test digit 8\n",
        "     1, 1, 1, 1, 1,\n",
        "     1, 1, 1, 1, 1]\n",
        "]\n",
        "\n",
        "# Test the model\n",
        "for data in test_data:\n",
        "    predicted_number = recognize_number(data)\n",
        "    print(\"Predicted Number:\", predicted_number)"
      ]
    },
    {
      "cell_type": "code",
      "source": [],
      "metadata": {
        "id": "LYSf8aTsSyxp"
      },
      "execution_count": null,
      "outputs": []
    }
  ]
}