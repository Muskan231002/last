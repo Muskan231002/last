{
  "nbformat": 4,
  "nbformat_minor": 0,
  "metadata": {
    "colab": {
      "provenance": []
    },
    "kernelspec": {
      "name": "python3",
      "display_name": "Python 3"
    },
    "language_info": {
      "name": "python"
    }
  },
  "cells": [
    {
      "cell_type": "code",
      "execution_count": 1,
      "metadata": {
        "colab": {
          "base_uri": "https://localhost:8080/"
        },
        "id": "N4pL_JdESE5l",
        "outputId": "9a2e191f-def6-45a0-f8d4-bad5470ee6e7"
      },
      "outputs": [
        {
          "output_type": "stream",
          "name": "stdout",
          "text": [
            "Recalled X: [[1 1 1]]\n",
            "Recalled Y: [[1 1 0]]\n"
          ]
        }
      ],
      "source": [
        "import numpy as np\n",
        "\n",
        "class BAM:\n",
        "    def __init__(self, X, Y):\n",
        "        self.X = X\n",
        "        self.Y = Y\n",
        "        self.W = np.dot(X.T, Y)\n",
        "        self.T = np.dot(Y.T, X)\n",
        "\n",
        "    def recall_X(self, Y):\n",
        "        return np.dot(Y, self.W.T)\n",
        "\n",
        "    def recall_Y(self, X):\n",
        "        return np.dot(X, self.T.T)\n",
        "\n",
        "# Example vectors\n",
        "X = np.array([[1, 0, 1],\n",
        "              [0, 1, 0]])\n",
        "Y = np.array([[1, 1, 0],\n",
        "              [0, 0, 1]])\n",
        "\n",
        "# Create BAM\n",
        "bam = BAM(X, Y)\n",
        "\n",
        "# Test recall\n",
        "test_X = np.array([[1, 0, 0]])\n",
        "test_Y = np.array([[0, 1, 1]])\n",
        "\n",
        "recalled_X = bam.recall_X(test_Y)\n",
        "recalled_Y = bam.recall_Y(test_X)\n",
        "\n",
        "print(\"Recalled X:\", recalled_X)\n",
        "print(\"Recalled Y:\", recalled_Y)"
      ]
    },
    {
      "cell_type": "code",
      "source": [],
      "metadata": {
        "id": "t8AcBmghSGJ2"
      },
      "execution_count": null,
      "outputs": []
    }
  ]
}