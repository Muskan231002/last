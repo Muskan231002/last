{
  "nbformat": 4,
  "nbformat_minor": 0,
  "metadata": {
    "colab": {
      "provenance": []
    },
    "kernelspec": {
      "name": "python3",
      "display_name": "Python 3"
    },
    "language_info": {
      "name": "python"
    }
  },
  "cells": [
    {
      "cell_type": "code",
      "execution_count": 1,
      "metadata": {
        "colab": {
          "base_uri": "https://localhost:8080/"
        },
        "id": "vKU5NfLrVdk1",
        "outputId": "2874faa8-6cb7-45e8-d1b7-7bf60f513cec"
      },
      "outputs": [
        {
          "output_type": "stream",
          "name": "stdout",
          "text": [
            "Pattern 1: [ 1  1 -1 -1], Recalled Pattern: [ 1  1 -1 -1]\n",
            "Pattern 2: [-1 -1  1  1], Recalled Pattern: [-1 -1  1  1]\n",
            "Pattern 3: [ 1 -1  1 -1], Recalled Pattern: [ 1 -1  1 -1]\n",
            "Pattern 4: [-1  1 -1  1], Recalled Pattern: [-1  1 -1  1]\n"
          ]
        }
      ],
      "source": [
        "import numpy as np\n",
        "\n",
        "class HopfieldNetwork:\n",
        "    def __init__(self, n):\n",
        "        self.n = n  # Number of neurons\n",
        "        self.weights = np.zeros((n, n))  # Weight matrix\n",
        "\n",
        "    def train(self, patterns):\n",
        "        # Hebbian learning rule\n",
        "        for pattern in patterns:\n",
        "            pattern = pattern.reshape(-1, 1)  # Reshape pattern to a column vector\n",
        "            self.weights += np.outer(pattern, pattern)\n",
        "\n",
        "        # Set diagonal elements to 0 (self-connections are not allowed)\n",
        "        np.fill_diagonal(self.weights, 0)\n",
        "\n",
        "    def energy(self, state):\n",
        "        # Calculate the energy of the network for a given state\n",
        "        return -0.5 * np.dot(state.T, np.dot(self.weights, state))\n",
        "\n",
        "    def update_rule(self, state):\n",
        "        # Asynchronous update rule\n",
        "        for i in range(self.n):\n",
        "            activation = np.dot(self.weights[i], state)\n",
        "            state[i] = 1 if activation > 0 else -1\n",
        "        return state\n",
        "\n",
        "    def recall(self, pattern, max_iter=100):\n",
        "        # Recall a stored pattern\n",
        "        pattern = pattern.reshape(-1, 1)  # Reshape pattern to a column vector\n",
        "        state = pattern.copy()\n",
        "        for _ in range(max_iter):\n",
        "            new_state = self.update_rule(state)\n",
        "            if np.array_equal(new_state, state):\n",
        "                return new_state.flatten()\n",
        "            state = new_state\n",
        "        return None  # Convergence not reached within max_iter iterations\n",
        " # Define patterns to be stored in the network\n",
        "patterns = np.array([\n",
        "    [1, 1, -1, -1],\n",
        "    [-1, -1, 1, 1],\n",
        "    [1, -1, 1, -1],\n",
        "    [-1, 1, -1, 1]\n",
        "])\n",
        "\n",
        "# Create and train the Hopfield network\n",
        "hopfield_net = HopfieldNetwork(n=len(patterns[0]))\n",
        "hopfield_net.train(patterns)\n",
        "\n",
        "# Test recall for each stored pattern\n",
        "for i, pattern in enumerate(patterns):\n",
        "    recalled_pattern = hopfield_net.recall(pattern)\n",
        "    print(f\"Pattern {i+1}: {pattern}, Recalled Pattern: {recalled_pattern}\")"
      ]
    },
    {
      "cell_type": "code",
      "source": [],
      "metadata": {
        "id": "qV8jEz6oVr33"
      },
      "execution_count": null,
      "outputs": []
    }
  ]
}